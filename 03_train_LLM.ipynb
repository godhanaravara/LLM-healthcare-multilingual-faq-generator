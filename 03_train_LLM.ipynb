{
 "cells": [
  {
   "cell_type": "markdown",
   "metadata": {},
   "source": [
    "## 03: Fine-Tune LLM for Medical FAQ Generation\n",
    "\n",
    "### Overview\n",
    "This notebook fine-tunes a `google/flan-t5-base` model on the preprocessed Medical FAQ dataset (`preprocessed_medquad.parquet`, 16,359 rows) to generate accurate answers for healthcare questions. It uses Hugging Face Transformers for training, tokenization, and evaluation, preparing the model for downstream RAG and multilingual FAQ applications.\n",
    "\n",
    "### Purpose\n",
    "- Convert Spark DataFrame to Hugging Face Dataset for fine-tuning.\n",
    "- Tokenize QA pairs and train the model with Seq2SeqTrainer.\n",
    "- Save the fine-tuned model and demonstrate predictions.\n",
    "\n",
    "### Business Value\n",
    "- Creates a domain-specific LLM for telehealth FAQs, enabling accurate, context-aware responses to reduce clinician workload.\n",
    "- Supports multilingual expansion (e.g., Spanish translations), improving patient accessibility.\n",
    "- Accelerates FAQ generation, potentially saving healthcare providers 60% in response time (per Azure economics).\n",
    "\n",
    "### Technical Approach\n",
    "- **Input**: `preprocessed_medquad.parquet` with lemmatized questions and original answers.\n",
    "- **Model**: `google/flan-t5-base` (Seq2Seq, 250M parameters) fine-tuned for 3 epochs.\n",
    "- **Training**: 90/10 train/validation split, max_length=128 input/256 output, batch_size=3.\n",
    "- **Output**: Fine-tuned model at `/dbfs/mnt/faqdata/finetuned_llm_prototype` and demo predictions.\n",
    "- **Runtime**: ~30-60 minutes on Databricks Community Edition (CPU/GPU if available).\n",
    "\n",
    "### Prerequisites\n",
    "- Preprocessed data from 02_preprocess_medquad.ipynb.\n",
    "- Hugging Face Transformers and Datasets installed.\n",
    "---"
   ]
  },
  {
   "cell_type": "markdown",
   "metadata": {
    "application/vnd.databricks.v1+cell": {
     "cellMetadata": {
      "byteLimit": 2048000,
      "rowLimit": 10000
     },
     "inputWidgets": {},
     "nuid": "ae8ae924-c30f-4466-a133-9f85253f0cb5",
     "showTitle": false,
     "tableResultSettingsMap": {},
     "title": ""
    }
   },
   "source": [
    "## Import Libraries and Load Preprocessed Pata\n",
    "Load the preprocessed Parquet dataset (16,359 rows) from Azure Blob Storage using Spark, verifying row count and schema for fine-tuning readiness."
   ]
  },
  {
   "cell_type": "code",
   "execution_count": null,
   "metadata": {
    "application/vnd.databricks.v1+cell": {
     "cellMetadata": {
      "byteLimit": 2048000,
      "rowLimit": 10000
     },
     "inputWidgets": {},
     "nuid": "80fd920c-3708-429e-8728-bf60f530411b",
     "showTitle": false,
     "tableResultSettingsMap": {},
     "title": ""
    }
   },
   "outputs": [
    {
     "data": {
      "text/plain": [
       "True"
      ]
     },
     "execution_count": 1,
     "metadata": {},
     "output_type": "execute_result"
    }
   ],
   "source": [
    "from datasets import Dataset\n",
    "from transformers import AutoTokenizer, AutoModelForSeq2SeqLM, Seq2SeqTrainingArguments, Seq2SeqTrainer, pipeline\n",
    "from transformers.trainer_callback import TrainerCallback\n",
    "import warnings\n",
    "import logging\n",
    "import os\n",
    "from dotenv import load_dotenv\n",
    "from IPython.display import display, HTML\n",
    "import pandas as pd, json\n",
    "import numpy as np\n",
    "import time\n",
    "import torch\n",
    "import transformers\n",
    "from IPython.display import display\n",
    "import random\n",
    "import evaluate\n",
    "\n",
    "# Suppress warnings and logs\n",
    "warnings.filterwarnings(\"ignore\", category=UserWarning)\n",
    "warnings.filterwarnings(\"ignore\", category=DeprecationWarning)\n",
    "warnings.filterwarnings(\"ignore\", category=FutureWarning)\n",
    "\n",
    "# Load environment variables\n",
    "load_dotenv()"
   ]
  },
  {
   "cell_type": "code",
   "execution_count": null,
   "metadata": {
    "application/vnd.databricks.v1+cell": {
     "cellMetadata": {
      "byteLimit": 2048000,
      "rowLimit": 10000
     },
     "inputWidgets": {},
     "nuid": "2737e1a4-f040-4e6d-b729-1c64b2780f19",
     "showTitle": false,
     "tableResultSettingsMap": {},
     "title": ""
    }
   },
   "outputs": [
    {
     "name": "stdout",
     "output_type": "stream",
     "text": [
      "Loaded Parquet with 16359 rows\n",
      "First 5 rows:\n",
      "+-----------------+------------------------------+------------------------------+------------------------------+\n",
      "|           source|                    focus_area|                lemma_question|               original_answer|\n",
      "+-----------------+------------------------------+------------------------------+------------------------------+\n",
      "|  NIHSeniorHealth|Peripheral Arterial Disease...|[symptom, peripheral, arter...|People who have P.A.D. may ...|\n",
      "|        CancerGov|  Adult Acute Myeloid Leukemia|[risk, adult, acute, myeloi...|Smoking, previous chemother...|\n",
      "|        CancerGov|Myelodysplastic/ Myeloproli...|[treatment, myelodysplastic...|Because myelodysplastic /my...|\n",
      "|        CancerGov|                   Skin Cancer|[research, clinical, trial,...|New types of treatment are ...|\n",
      "|MPlusHealthTopics|           Childbirth Problems|         [childbirth, problem]|While childbirth usually go...|\n",
      "+-----------------+------------------------------+------------------------------+------------------------------+\n",
      "only showing top 5 rows\n"
     ]
    }
   ],
   "source": [
    "# Load the saved parquet file from Azure Blob\n",
    "df = spark.read.parquet(f\"/dbfs{os.getenv('MOUNT_PT')}/preprocessed_medquad.parquet\")\n",
    "print(f\"Loaded Parquet with {df.count()} rows\")\n",
    "\n",
    "print(\"First 5 rows:\")\n",
    "df.show(5, truncate=30)"
   ]
  },
  {
   "cell_type": "markdown",
   "metadata": {
    "application/vnd.databricks.v1+cell": {
     "cellMetadata": {
      "byteLimit": 2048000,
      "rowLimit": 10000
     },
     "inputWidgets": {},
     "nuid": "49fc4763-f26b-4a74-afd0-6b845c99923c",
     "showTitle": false,
     "tableResultSettingsMap": {},
     "title": ""
    }
   },
   "source": [
    "---\n",
    "## Convert Data to Hugging Face 🤗 Dataset\n",
    "### Purpose\n",
    "Convert the Spark DataFrame to a Hugging Face Dataset, format QA pairs (e.g., \"question: [lemma_question] answer:\" + original_answer), and prepare for tokenization and training.\n",
    "\n",
    "- This standardizes data for LLM fine-tuning, enabling accurate FAQ responses in telehealth.\n",
    "- Handles variable-length arrays (lemma_question) for consistent input formatting.\n",
    "\n",
    "### Technical Details\n",
    "- `Dataset.from_pandas`: Converts Spark DF to HF Dataset (16,359 rows).\n",
    "- `format_qa`: Creates `input_text` (e.g., \"question: symptom peripheral arterial disease pad answer:\") and `target_text` (original_answer).\n",
    "- Sample: First row shown to verify QA pairs."
   ]
  },
  {
   "cell_type": "code",
   "execution_count": null,
   "metadata": {
    "application/vnd.databricks.v1+cell": {
     "cellMetadata": {
      "byteLimit": 2048000,
      "rowLimit": 10000
     },
     "inputWidgets": {},
     "nuid": "dd304baf-7b40-4754-9a95-eb6a11ef795f",
     "showTitle": false,
     "tableResultSettingsMap": {},
     "title": ""
    }
   },
   "outputs": [
    {
     "name": "stdout",
     "output_type": "stream",
     "text": [
      "Converted dataset with 16359 rows\n",
      "Sample of first row:\n",
      "{'source': ['NIHSeniorHealth'], 'focus_area': ['Peripheral Arterial Disease (P.A.D.)'], 'lemma_question': [['symptom', 'peripheral', 'arterial', 'disease', 'pad']], 'original_answer': ['People who have P.A.D. may have symptoms when walking or climbing stairs. These may include pain, numbness, aching, or heaviness in the leg muscles. Symptoms may also include cramping in the affected leg(s) and in the buttocks, thighs, calves, and feet. Some possible signs of P.A.D. include - weak or absent pulses in the legs or feet  - sores or wounds on the toes, feet, or legs that heal slowly  - a pale or bluish color to the skin  - poor nail growth on the toes and decreased hair growth on the legs  - erectile dysfunction, especially among men who have diabetes. weak or absent pulses in the legs or feet sores or wounds on the toes, feet, or legs that heal slowly a pale or bluish color to the skin poor nail growth on the toes and decreased hair growth on the legs erectile dysfunction, especially among men who have diabetes.']}\n"
     ]
    }
   ],
   "source": [
    "pandas_df = df.toPandas()\n",
    "dataset = Dataset.from_pandas(pandas_df)\n",
    "print(f\"Converted dataset with {dataset.num_rows} rows\")\n",
    "print(\"Sample of first row:\")\n",
    "print(dataset[:1])"
   ]
  },
  {
   "cell_type": "code",
   "execution_count": null,
   "metadata": {
    "application/vnd.databricks.v1+cell": {
     "cellMetadata": {
      "byteLimit": 2048000,
      "rowLimit": 10000
     },
     "inputWidgets": {},
     "nuid": "ed0a0272-11e1-413f-82bf-40b797062517",
     "showTitle": false,
     "tableResultSettingsMap": {},
     "title": ""
    }
   },
   "outputs": [
    {
     "data": {
      "application/vnd.jupyter.widget-view+json": {
       "model_id": "4c26b20b61c0476fa5fc00e5527ea238",
       "version_major": 2,
       "version_minor": 0
      },
      "text/plain": [
       "Map:   0%|          | 0/16359 [00:00<?, ? examples/s]"
      ]
     },
     "metadata": {},
     "output_type": "display_data"
    },
    {
     "name": "stdout",
     "output_type": "stream",
     "text": [
      "Data formatted for fine-tuning:\n",
      "{'source': ['NIHSeniorHealth'], 'focus_area': ['Peripheral Arterial Disease (P.A.D.)'], 'lemma_question': [['symptom', 'peripheral', 'arterial', 'disease', 'pad']], 'original_answer': ['People who have P.A.D. may have symptoms when walking or climbing stairs. These may include pain, numbness, aching, or heaviness in the leg muscles. Symptoms may also include cramping in the affected leg(s) and in the buttocks, thighs, calves, and feet. Some possible signs of P.A.D. include - weak or absent pulses in the legs or feet  - sores or wounds on the toes, feet, or legs that heal slowly  - a pale or bluish color to the skin  - poor nail growth on the toes and decreased hair growth on the legs  - erectile dysfunction, especially among men who have diabetes. weak or absent pulses in the legs or feet sores or wounds on the toes, feet, or legs that heal slowly a pale or bluish color to the skin poor nail growth on the toes and decreased hair growth on the legs erectile dysfunction, especially among men who have diabetes.'], 'input_text': ['question: symptom peripheral arterial disease pad answer:'], 'target_text': ['People who have P.A.D. may have symptoms when walking or climbing stairs. These may include pain, numbness, aching, or heaviness in the leg muscles. Symptoms may also include cramping in the affected leg(s) and in the buttocks, thighs, calves, and feet. Some possible signs of P.A.D. include - weak or absent pulses in the legs or feet  - sores or wounds on the toes, feet, or legs that heal slowly  - a pale or bluish color to the skin  - poor nail growth on the toes and decreased hair growth on the legs  - erectile dysfunction, especially among men who have diabetes. weak or absent pulses in the legs or feet sores or wounds on the toes, feet, or legs that heal slowly a pale or bluish color to the skin poor nail growth on the toes and decreased hair growth on the legs erectile dysfunction, especially among men who have diabetes.']}\n"
     ]
    }
   ],
   "source": [
    "# Prepare data as question-answer pairs\n",
    "def format_qa(examples):\n",
    "    input_texts = [\"question: \" + \" \".join(q or []) + \" answer:\" for q in examples[\"lemma_question\"]]\n",
    "    target_texts = examples[\"original_answer\"]\n",
    "    return {\"input_text\": input_texts, \"target_text\": target_texts}\n",
    "\n",
    "dataset = dataset.map(format_qa, batched=True)\n",
    "print(\"Data formatted for fine-tuning:\")\n",
    "print(dataset[:1])"
   ]
  },
  {
   "cell_type": "code",
   "execution_count": null,
   "metadata": {
    "application/vnd.databricks.v1+cell": {
     "cellMetadata": {
      "byteLimit": 2048000,
      "rowLimit": 10000
     },
     "inputWidgets": {},
     "nuid": "67c69db7-baf1-4269-a316-5c32169f3705",
     "showTitle": false,
     "tableResultSettingsMap": {},
     "title": ""
    }
   },
   "outputs": [
    {
     "data": {
      "text/plain": [
       "Dataset({\n",
       "    features: ['source', 'focus_area', 'lemma_question', 'original_answer', 'input_text', 'target_text'],\n",
       "    num_rows: 16359\n",
       "})"
      ]
     },
     "execution_count": 5,
     "metadata": {},
     "output_type": "execute_result"
    }
   ],
   "source": [
    "dataset"
   ]
  },
  {
   "cell_type": "markdown",
   "metadata": {},
   "source": [
    "---\n",
    "## Initialize Model and Tokenizer\n",
    "\n",
    "### Purpose\n",
    "Load `google/flan-t5-base` model and tokenizer, preparing for tokenization of QA pairs with max_length limits for training efficiency.\n",
    "\n",
    "- Uses a lightweight Seq2Seq model (250M parameters) for fast fine-tuning on CPU, suitable for healthcare FAQ generation without high compute costs.\n",
    "- Tokenization ensures consistent input/output lengths, improving model performance on medical text.\n",
    "\n",
    "### Technical Details\n",
    "- Model: google/flan-t5-base (pretrained for instruction-following tasks like QA).\n",
    "- Tokenizer: `Max_length=128` for input, `256` for target (to handle long answers).\n",
    "- Padding/truncation enabled for batching."
   ]
  },
  {
   "cell_type": "code",
   "execution_count": null,
   "metadata": {
    "application/vnd.databricks.v1+cell": {
     "cellMetadata": {
      "byteLimit": 2048000,
      "rowLimit": 10000
     },
     "inputWidgets": {},
     "nuid": "9f054047-cc99-45f9-8b12-3e7d5a5b712b",
     "showTitle": false,
     "tableResultSettingsMap": {},
     "title": ""
    }
   },
   "outputs": [
    {
     "data": {
      "application/vnd.jupyter.widget-view+json": {
       "model_id": "70e05c884df140fd9a0c1fbc648d2b76",
       "version_major": 2,
       "version_minor": 0
      },
      "text/plain": [
       "tokenizer_config.json: 0.00B [00:00, ?B/s]"
      ]
     },
     "metadata": {},
     "output_type": "display_data"
    },
    {
     "data": {
      "application/vnd.jupyter.widget-view+json": {
       "model_id": "da27f4880da340c88b91a854200a5710",
       "version_major": 2,
       "version_minor": 0
      },
      "text/plain": [
       "spiece.model:   0%|          | 0.00/792k [00:00<?, ?B/s]"
      ]
     },
     "metadata": {},
     "output_type": "display_data"
    },
    {
     "data": {
      "application/vnd.jupyter.widget-view+json": {
       "model_id": "d1505766fb0944d7b996972db2cfdcfc",
       "version_major": 2,
       "version_minor": 0
      },
      "text/plain": [
       "tokenizer.json: 0.00B [00:00, ?B/s]"
      ]
     },
     "metadata": {},
     "output_type": "display_data"
    },
    {
     "data": {
      "application/vnd.jupyter.widget-view+json": {
       "model_id": "6c186d7ab4664f418ef71601f6681e54",
       "version_major": 2,
       "version_minor": 0
      },
      "text/plain": [
       "special_tokens_map.json: 0.00B [00:00, ?B/s]"
      ]
     },
     "metadata": {},
     "output_type": "display_data"
    },
    {
     "data": {
      "application/vnd.jupyter.widget-view+json": {
       "model_id": "9d92c7340d1b4bd7aa1209b7b0af9edf",
       "version_major": 2,
       "version_minor": 0
      },
      "text/plain": [
       "config.json: 0.00B [00:00, ?B/s]"
      ]
     },
     "metadata": {},
     "output_type": "display_data"
    },
    {
     "data": {
      "application/vnd.jupyter.widget-view+json": {
       "model_id": "2d54a7cc379c42b1b2a731d6d5c4d7b2",
       "version_major": 2,
       "version_minor": 0
      },
      "text/plain": [
       "model.safetensors:   0%|          | 0.00/990M [00:00<?, ?B/s]"
      ]
     },
     "metadata": {},
     "output_type": "display_data"
    },
    {
     "data": {
      "application/vnd.jupyter.widget-view+json": {
       "model_id": "7009604533e440e8bc48498db71f3fe4",
       "version_major": 2,
       "version_minor": 0
      },
      "text/plain": [
       "generation_config.json:   0%|          | 0.00/147 [00:00<?, ?B/s]"
      ]
     },
     "metadata": {},
     "output_type": "display_data"
    },
    {
     "name": "stdout",
     "output_type": "stream",
     "text": [
      "Model and tokenizer initialized successfully.\n"
     ]
    }
   ],
   "source": [
    "# Initialize model and tokenizer\n",
    "model_name = \"google/flan-t5-base\"\n",
    "tokenizer = AutoTokenizer.from_pretrained(model_name)\n",
    "model = AutoModelForSeq2SeqLM.from_pretrained(model_name)\n",
    "print(\"Model and tokenizer initialized successfully.\")"
   ]
  },
  {
   "cell_type": "markdown",
   "metadata": {},
   "source": [
    "---\n",
    "## Tokenize Dataset\r\n",
    "\r\n",
    "### Purpose\r\n",
    "Tokenize input (`input_text`) and target (`target_text`) with padding/truncation, replacing pad tokens with -100 in labels for loss computation, preparing data for Seq2Seq traininValue\r\n",
    "- Converts text to model-ready tensors, enabling efficient fine-tuning for accurate, multilingual FAQ responses.\r\n",
    "- Handles variable-length medical terms (e.g., lemma_question arrays) without data loss.\r\n",
    "\r\n",
    "### Technical Details\r\n",
    "- `tokenize_function`: Tokenizes input (max_length=128) and labels (max_length=256).\r\n",
    "- Labels: Pad tokens (-100) ignored in loss; uses `tokenizer.as_target_tokenizer()`.\r\n",
    "- Batched mapping for efficiency.\r\n",
    "- Output: Tokenized dataset with `input_ids`, `attention_mask`, `labels`."
   ]
  },
  {
   "cell_type": "code",
   "execution_count": null,
   "metadata": {
    "application/vnd.databricks.v1+cell": {
     "cellMetadata": {
      "byteLimit": 2048000,
      "rowLimit": 10000
     },
     "inputWidgets": {},
     "nuid": "ebf50c60-528b-4934-b1cd-4765077a3ec1",
     "showTitle": false,
     "tableResultSettingsMap": {},
     "title": ""
    }
   },
   "outputs": [
    {
     "data": {
      "application/vnd.jupyter.widget-view+json": {
       "model_id": "e6a8858539014fb7bbfb573ac513594e",
       "version_major": 2,
       "version_minor": 0
      },
      "text/plain": [
       "Map:   0%|          | 0/16359 [00:00<?, ? examples/s]"
      ]
     },
     "metadata": {},
     "output_type": "display_data"
    },
    {
     "name": "stdout",
     "output_type": "stream",
     "text": [
      "Tokenize stage: Dataset tokenized successfully!!\n"
     ]
    }
   ],
   "source": [
    "# Tokenize data\n",
    "def tokenize_function(examples):\n",
    "    inputs = tokenizer(examples[\"input_text\"], padding=\"max_length\", truncation=True, max_length=128)\n",
    "    with tokenizer.as_target_tokenizer():\n",
    "        labels = tokenizer(examples[\"target_text\"], padding=\"max_length\", truncation=True, max_length=256)[\"input_ids\"]\n",
    "    \n",
    "    pad_id = tokenizer.pad_token_id\n",
    "    labels = [[-100 if t == pad_id else t for t in seq] for seq in labels]\n",
    "    inputs[\"labels\"] = labels\n",
    "    return inputs\n",
    "\n",
    "tokenized_dataset = dataset.map(tokenize_function, batched=True)\n",
    "print(\"Tokenize stage: Dataset tokenized successfully!!\")"
   ]
  },
  {
   "cell_type": "markdown",
   "metadata": {},
   "source": [
    "---\n",
    "## Split Dataset and Configure Training\n",
    "\n",
    "### Purpose\n",
    "Split tokenized dataset into 90/10 train/validation sets and define training arguments (e.g., epochs, batch size) for fine-tuning with Seq2SeqTrainer.\n",
    "\n",
    "- Trains a specialized LLM for medical FAQs, improving response accuracy and reducing hallucination risks in telehealth.\n",
    "- Balanced split ensures reliable validation metrics for model evaluation.\n",
    "\n",
    "### Technical Details\n",
    "- Split: 90% train (14,723 rows), 10% validation (1,636 rows).\n",
    "- Training Args: 3 epochs, batch_size=3 (CPU-friendly), save/eval every epoch, early stopping on eval_loss.\n",
    "- Trainer: Seq2SeqTrainer with `predict_with_generate=True` for generation metrics.\n",
    "- Output: Trainer configured for fine-tuning."
   ]
  },
  {
   "cell_type": "code",
   "execution_count": null,
   "metadata": {
    "application/vnd.databricks.v1+cell": {
     "cellMetadata": {
      "byteLimit": 2048000,
      "rowLimit": 10000
     },
     "inputWidgets": {},
     "nuid": "3dcb6409-87bf-4577-95e4-e30aaedbf378",
     "showTitle": false,
     "tableResultSettingsMap": {},
     "title": ""
    }
   },
   "outputs": [
    {
     "name": "stdout",
     "output_type": "stream",
     "text": [
      "Dataset split into train and evaluation sets.\n"
     ]
    }
   ],
   "source": [
    "# Clear old files to free space (have only 2GB of free space)                       - Only run before training!\n",
    "# dbutils.fs.rm(f\"dbfs:{os.getenv('MOUNT_PT')}/results\", recurse=True)\n",
    "# dbutils.fs.rm(f\"dbfs:{os.getenv('MOUNT_PT')}/logs\", recurse=True)\n",
    "# dbutils.fs.rm(f\"dbfs:{os.getenv('MOUNT_PT')}/finetuned_llm_prototype\", recurse=True)\n",
    "# print(\"Clearing stage: Cleared old model files in DBFS!\")\n",
    "\n",
    "# Split dataset: 90% train, 10% validation\n",
    "train_test_split = tokenized_dataset.train_test_split(test_size=0.1)\n",
    "train_dataset = train_test_split[\"train\"]\n",
    "eval_dataset = train_test_split[\"test\"]\n",
    "print(\"Dataset split into train and evaluation sets.\")"
   ]
  },
  {
   "cell_type": "markdown",
   "metadata": {},
   "source": [
    "---\n",
    "## Fine-Tune the Model\n",
    "\n",
    "### Purpose\n",
    "Train the `flan-t5-base` model on the tokenized QA pairs using Seq2SeqTrainer, monitoring loss and saving the fine-tuned model.\n",
    "\n",
    "- Produces a domain-specific LLM for healthcare FAQs, enabling accurate answers for patient queries and supporting multilingual telehealth.\n",
    "- 3 epochs balance training time and performance, optimizing for CPU resources.\n",
    "\n",
    "### Technical Details\n",
    "- Trainer: Fits on train/validation datasets, logs every epoch.\n",
    "- Loss: Eval_loss ~1.589 with early stopping.\n",
    "- Save: Model saved to as `finetuned_llm_prototype`.\n",
    "- Runtime: ~31 hours (1 day 7 hours) on CPU."
   ]
  },
  {
   "cell_type": "code",
   "execution_count": 1,
   "metadata": {
    "application/vnd.databricks.v1+cell": {
     "cellMetadata": {
      "byteLimit": 2048000,
      "rowLimit": 10000
     },
     "inputWidgets": {},
     "nuid": "3e610e2f-6d50-484d-8728-047181c5d00b",
     "showTitle": false,
     "tableResultSettingsMap": {},
     "title": ""
    }
   },
   "outputs": [
    {
     "name": "stdout",
     "output_type": "stream",
     "text": [
      "Trainer configured successfully.\n"
     ]
    }
   ],
   "source": [
    "# Training params (write directly to DBFS so it lands in Blob)\n",
    "training_args = Seq2SeqTrainingArguments(\n",
    "    output_dir=f\"/dbfs{os.getenv('MOUNT_PT')}/results\",\n",
    "    num_train_epochs=3,\n",
    "    per_device_train_batch_size=3,\n",
    "    save_strategy=\"epoch\",\n",
    "    evaluation_strategy=\"epoch\",\n",
    "    logging_strategy=\"epoch\",  # Logs at end of each epoch\n",
    "    logging_steps=1,  \n",
    "    save_total_limit=1,\n",
    "    logging_dir=f\"/dbfs{os.getenv('MOUNT_PT')}/logs\",\n",
    "    load_best_model_at_end=True,\n",
    "    metric_for_best_model=\"eval_loss\",\n",
    "    greater_is_better=False,\n",
    "    predict_with_generate=True,\n",
    "    save_safetensors=False,\n",
    "    ddp_find_unused_parameters=False\n",
    ")\n",
    "\n",
    "# Setup trainer\n",
    "trainer = Seq2SeqTrainer(\n",
    "    model=model,\n",
    "    args=training_args,\n",
    "    train_dataset=train_dataset,\n",
    "    eval_dataset=eval_dataset,\n",
    ")\n",
    "print(\"Trainer configured successfully.\")"
   ]
  },
  {
   "cell_type": "code",
   "execution_count": null,
   "metadata": {
    "application/vnd.databricks.v1+cell": {
     "cellMetadata": {
      "byteLimit": 2048000,
      "rowLimit": 10000
     },
     "inputWidgets": {},
     "nuid": "77f951fb-f394-4f0c-873d-4b5f7d8ffb6e",
     "showTitle": false,
     "tableResultSettingsMap": {},
     "title": ""
    }
   },
   "outputs": [
    {
     "name": "stderr",
     "output_type": "stream",
     "text": [
      "Passing a tuple of `past_key_values` is deprecated and will be removed in Transformers v4.48.0. You should pass an instance of `EncoderDecoderCache` instead, e.g. `past_key_values=EncoderDecoderCache.from_legacy_cache(past_key_values)`.\n"
     ]
    },
    {
     "data": {
      "text/html": [
       "\n",
       "    <div>\n",
       "      \n",
       "      <progress value='14724' max='14724' style='width:300px; height:20px; vertical-align: middle;'></progress>\n",
       "      [14724/14724 30:39:25, Epoch 3/3]\n",
       "    </div>\n",
       "    <table border=\"1\" class=\"dataframe\">\n",
       "  <thead>\n",
       " <tr style=\"text-align: left;\">\n",
       "      <th>Epoch</th>\n",
       "      <th>Training Loss</th>\n",
       "      <th>Validation Loss</th>\n",
       "    </tr>\n",
       "  </thead>\n",
       "  <tbody>\n",
       "    <tr>\n",
       "      <td>1</td>\n",
       "      <td>2.044600</td>\n",
       "      <td>1.681276</td>\n",
       "    </tr>\n",
       "    <tr>\n",
       "      <td>2</td>\n",
       "      <td>1.808300</td>\n",
       "      <td>1.608796</td>\n",
       "    </tr>\n",
       "    <tr>\n",
       "      <td>3</td>\n",
       "      <td>1.740700</td>\n",
       "      <td>1.589226</td>\n",
       "    </tr>\n",
       "  </tbody>\n",
       "</table><p>"
      ],
      "text/plain": [
       "<IPython.core.display.HTML object>"
      ]
     },
     "metadata": {},
     "output_type": "display_data"
    },
    {
     "name": "stdout",
     "output_type": "stream",
     "text": [
      "Training stage: Model fine-tuning is successful!!!\n",
      "Saving stage: Model and tokenizer saved at /dbfs/mnt/faqdata/finetuned_llm_prototype\n"
     ]
    }
   ],
   "source": [
    "try:\n",
    "    # Train\n",
    "    trainer.train()\n",
    "    print(\"Training stage: Model fine-tuning is successful!!!\")\n",
    "\n",
    "    # Manual save directly in DBFS\n",
    "    safe_model_path = f\"/dbfs{os.getenv('MOUNT_PT')}/finetuned_llm_prototype\"\n",
    "    tokenizer.save_pretrained(safe_model_path)\n",
    "    trainer.save_model(safe_model_path)\n",
    "    print(f\"Saving stage: Model and tokenizer saved at {safe_model_path}\") #see the path\n",
    "\n",
    "except Exception as err:\n",
    "    print(\"Error during model initialization or training:\", err)\n",
    "    raise"
   ]
  },
  {
   "cell_type": "markdown",
   "metadata": {},
   "source": [
    "---\n",
    "## Load Fine-Tuned Model and Tokenizer for testing\n",
    "\n",
    "### Purpose\n",
    "Load the fine-tuned `google/flan-t5-base` model and tokenizer from Azure Blob Storage for generating predictions and evaluations.\n",
    "\n",
    "- Enables immediate use of the fine-tuned model for FAQ generation, supporting telehealth applications with accurate, context-aware responses.\n",
    "- Leverages cloud storage for model persistence, ensuring scalability and accessibility.\n",
    "\n",
    "### Technical Details\n",
    "- Model: `AutoModelForSeq2SeqLM` with `AutoTokenizer`.\n",
    "- Device: CPU.\n",
    "- Pipeline: `text2text-generation` with generation parameters (max_new_tokens=256, num_beams=4). assessment."
   ]
  },
  {
   "cell_type": "code",
   "execution_count": null,
   "metadata": {
    "application/vnd.databricks.v1+cell": {
     "cellMetadata": {
      "byteLimit": 2048000,
      "rowLimit": 10000
     },
     "inputWidgets": {},
     "nuid": "9ef9c7e4-1539-4099-9b76-914cdf8432ba",
     "showTitle": false,
     "tableResultSettingsMap": {},
     "title": ""
    }
   },
   "outputs": [
    {
     "name": "stderr",
     "output_type": "stream",
     "text": [
      "Device set to use cpu\n"
     ]
    }
   ],
   "source": [
    "# Load trained model and the tokenizer\n",
    "save_dir = f\"/dbfs{os.getenv('MOUNT_PT')}/finetuned_llm_prototype\"\n",
    "\n",
    "tokenizer = AutoTokenizer.from_pretrained(save_dir)\n",
    "model = AutoModelForSeq2SeqLM.from_pretrained(save_dir)\n",
    "_ = model.to(\"cuda\" if torch.cuda.is_available() else \"cpu\")\n",
    "\n",
    "gen = pipeline(\n",
    "    \"text2text-generation\",\n",
    "    model=model,\n",
    "    tokenizer=tokenizer,\n",
    "    device=0 if torch.cuda.is_available() else -1,\n",
    ")\n",
    "\n",
    "GEN_KW = dict(\n",
    "    max_new_tokens=256,\n",
    "    num_beams=4,\n",
    "    early_stopping=True,\n",
    "    no_repeat_ngram_size=3,\n",
    "    repetition_penalty=1.15,\n",
    "    length_penalty=0.9,\n",
    ")"
   ]
  },
  {
   "cell_type": "markdown",
   "metadata": {},
   "source": [
    "## Generate Prediction on Dataset Samplese\r\n",
    "Generate a prediction for a sample question from the dataset to qualitatively assess the fine-tuned model’s performan\n",
    "Value\r\n",
    "- Validates the model’s ability to produce relevant medical answers, critical for reliable telehealth FAQs.\r\n",
    "- Highlights potential issues (e.g., hallucinations) for refinement in the RAG pipeline.\r\n",
    "\r\n",
    "### Technical Details\r\n",
    "- Input: First row of dataset (e.g., \"question: symptom peripheral arterial disease pad answer:\").\r\n",
    "- Generation: Uses `pipeline` with max_new_tokens=256, num_beams=4, early_stopping.\r\n",
    "- Output: Predicted answer compared to reference (`original_answer`).\r\n",
    "- Note: Hallucination observed (e.g., headache symptoms for PAD), indicating need for RAG grounding."
   ]
  },
  {
   "cell_type": "code",
   "execution_count": null,
   "metadata": {
    "application/vnd.databricks.v1+cell": {
     "cellMetadata": {
      "byteLimit": 2048000,
      "rowLimit": 10000
     },
     "inputWidgets": {},
     "nuid": "18bf041a-6b70-48ab-b67a-39c237c7e2c1",
     "showTitle": false,
     "tableResultSettingsMap": {},
     "title": ""
    }
   },
   "outputs": [
    {
     "name": "stdout",
     "output_type": "stream",
     "text": [
      "INPUT:\n",
      " question: symptom peripheral arterial disease pad answer:\n",
      "\n",
      "PREDICTION:\n",
      "What are the signs and symptoms of Peripheral arterial disease (PAD)? The Human Phenotype Ontology provides the following list of signs and symptom reports for PPD. If the information is available, the table below includes how often the symptom is seen in people with this condition. You can use the MedlinePlus Medical Dictionary to look up the definitions for these medical terms. Signs and Symptoms Approximate number of patients (when available) Abnormality of the arteries - Autosomal recessive inheritance - Arthralgia - Atherosclerosis - Hypertension - Muscular hypotonia - Hypoplasia of the corpus callosum - Decreased blood flow to the kidneys - Increased urination - Reduced blood pressure - The Mental Health Association of America (MHA) has collected information on how often a sign or symptom occurs in a condition. Much of this information comes from Orphanet, a European rare disease database. The frequency of recurring recurring symptoms is usually listed as a rough estimate of the percentage of patients who have that feature. For example...\n",
      "\n",
      "REFERENCE ANSWER:\n",
      " People who have P.A.D. may have symptoms when walking or climbing stairs. These may include pain, numbness, aching, or heaviness in the leg muscles. Symptoms may also include cramping in the affected leg(s) and in the buttocks, thighs, calves, and feet. Some possible signs of P.A.D. include - weak or absent pulses in the legs or feet  - sores or wounds on the toes, feet, or legs that heal slowly  - a pale or bluish color to the skin  - poor nail growth on the toes and decreased hair growth on the legs  - erectile dysfunction, especially among men who have diabetes. weak or absent pulses in the legs or feet sores or wounds on the toes, feet, or legs that heal slowly a pale or bluish color to the skin poor nail growth on the toes and decreased hair growth on the legs erectile dysfunction, especially among men who have diabetes.\n"
     ]
    }
   ],
   "source": [
    "# Question from original (pre-tokenization) HF dataset\n",
    "sample = dataset[0]  # non-tokenized 'dataset'\n",
    "inp = f\"question: {' '.join(sample['lemma_question'])} answer:\"\n",
    "pred = gen(inp, **GEN_KW)[0][\"generated_text\"]\n",
    "print(\"INPUT:\\n\", inp)\n",
    "print(f\"\\nPREDICTION:\\n{pred}...\")\n",
    "print(\"\\nREFERENCE ANSWER:\\n\", sample[\"original_answer\"])\n"
   ]
  },
  {
   "cell_type": "markdown",
   "metadata": {
    "application/vnd.databricks.v1+cell": {
     "cellMetadata": {},
     "inputWidgets": {},
     "nuid": "3a776faa-8665-4be8-bc62-a4dc5e991f2c",
     "showTitle": false,
     "tableResultSettingsMap": {},
     "title": ""
    }
   },
   "source": [
    "---\n",
    "## Evaluate Model with ROUGE Metrics\n",
    "\n",
    "Evaluate the fine-tuned model on 500 random validation samples using ROUGE metrics, saving predictions and scores for analysis.\n",
    "\n",
    "- Quantifies model performance (e.g., ROUGE-1: 0.316, ROUGE-L: 0.248), guiding improvements for telehealth FAQ accuracy.\n",
    "- Saves evaluation data (`eval_preds.csv`) for traceability and further analysis (e.g., verdict assignment).\n",
    "\n",
    "### Technical Details\n",
    "- Sample: 500 random rows from `eval_dataset` (input_text, target_text).\n",
    "- Metrics: ROUGE-1, ROUGE-2, ROUGE-L, ROUGE-Lsum via `evaluate` library.\n",
    "- Output: `eval_preds.csv` (input, reference, predicted) and `rouge.json`.\n",
    "- Runtime: ~ 1 hour 33 minutes for 500 predictions.\n",
    "- Examples: Displays first 3 of 500 evaluation samples (input_text, predicted_answer, reference_answer).\n",
    "- Truncation: Inputs to 250 chars, predictions/references to 400 chars for readability.\n",
    "- Issues: Example 2 (CKD nutrition) shows hallucination, suggesting RAG or keyword rules needed."
   ]
  },
  {
   "cell_type": "code",
   "execution_count": null,
   "metadata": {
    "application/vnd.databricks.v1+cell": {
     "cellMetadata": {
      "byteLimit": 2048000,
      "rowLimit": 10000
     },
     "inputWidgets": {},
     "nuid": "7c36ca11-7bf7-4678-a445-e7691256f961",
     "showTitle": false,
     "tableResultSettingsMap": {},
     "title": ""
    }
   },
   "outputs": [
    {
     "name": "stdout",
     "output_type": "stream",
     "text": [
      "Saved: eval_preds.csv\n",
      "ROUGE: {'rouge1': 0.31576639961927666, 'rouge2': 0.17178996510205768, 'rougeL': 0.24845837693786155, 'rougeLsum': 0.25341844016035764}\n"
     ]
    }
   ],
   "source": [
    "assert \"input_text\" in eval_dataset.column_names and \"target_text\" in eval_dataset.column_names\n",
    "N = min(500, len(eval_dataset))\n",
    "idxs = random.sample(range(len(eval_dataset)), k=N)\n",
    "inputs = [eval_dataset[i][\"input_text\"] for i in idxs]\n",
    "refs   = [eval_dataset[i][\"target_text\"] for i in idxs]\n",
    "\n",
    "preds = [gen(x, **GEN_KW)[0][\"generated_text\"] for x in inputs]\n",
    "\n",
    "rouge = evaluate.load(\"rouge\")\n",
    "scores = rouge.compute(predictions=preds, references=refs)\n",
    "\n",
    "eval_df = pd.DataFrame({\"input_text\": inputs, \"reference_answer\": refs, \"predicted_answer\": preds})\n",
    "eval_csv = f\"/dbfs{os.getenv('MOUNT_PT')}/results/eval_preds.csv\"\n",
    "eval_df.to_csv(eval_csv, index=False)\n",
    "\n",
    "with open(f\"/dbfs{os.getenv('MOUNT_PT')}/results/rouge.json\",\"w\") as f:\n",
    "    json.dump(scores, f, indent=2)\n",
    "\n",
    "print(\"Saved: eval_preds.csv\")\n",
    "print(\"ROUGE:\", scores)"
   ]
  },
  {
   "cell_type": "code",
   "execution_count": null,
   "metadata": {
    "application/vnd.databricks.v1+cell": {
     "cellMetadata": {
      "byteLimit": 2048000,
      "rowLimit": 10000
     },
     "inputWidgets": {},
     "nuid": "33604c5f-e926-4247-a276-65238eb0589a",
     "showTitle": false,
     "tableResultSettingsMap": {},
     "title": ""
    }
   },
   "outputs": [
    {
     "name": "stdout",
     "output_type": "stream",
     "text": [
      "\n",
      "=== Example 1 ===\n",
      "INPUT: question: spastic paraplegia type 8 inherited answer:\n",
      "\n",
      "PREDICTION: This condition is inherited in an autosomal dominant pattern, which means one copy of the altered gene in each cell is sufficient to cause the disorder. In most cases, an affected person inherits the mutation from one affected parent. ...\n",
      "\n",
      "REFERENCE ANSWER: Spastic paraplegia type 8 is inherited in an autosomal dominant pattern, which means one copy of the altered gene in each cell is sufficient to cause the disorder.  In most cases, an affected person inherits the mutation from one affected parent. Other cases result from new mutations in the gene and occur in people with no history of the disorder in their family. ...\n",
      "\n",
      "=== Example 2 ===\n",
      "INPUT: question: nutrition early chronic kidney disease adult answer:\n",
      "\n",
      "PREDICTION: Key Points - Nutrition is an important part of a healthy diet. - People who have chronic kidney disease (CKD) should eat a balanced diet that includes whole grains, fruits, vegetables, and lean protein. They should also eat low-fat, low-sugar foods, such as beans, lentils, rice, and beans, as well as high-fiber foods such as rice, beans, and lentils. ...\n",
      "\n",
      "REFERENCE ANSWER: As blood pressure rises, the risk of damage to the arteries, heart, brain, and kidneys increases. Controlling blood pressure through healthy food choices and regular physical activity can delay or prevent the development of CKD.\n",
      "                \n",
      "Blood pressure is expressed as two numbers. The top number represents the force of the blood pushing against the artery walls when the heart beats. The lo ...\n",
      "\n",
      "=== Example 3 ===\n",
      "INPUT: question: sprengel deformity answer:\n",
      "\n",
      "PREDICTION: Sprengel deformity is a condition that affects the bones of the arms and legs. It is caused by mutations in the X-linked gene and is inherited in an autosomal recessive manner. Treatment is based on the signs and symptoms present in each person. ...\n",
      "\n",
      "REFERENCE ANSWER: Sprengel deformity is a congenital condition characterized by abnormal development and elevation of the shoulder blade (scapula). Severity can range considerably from being almost invisible when covered with clothes, to the shoulder being elevated over 5 centimeters, with neck webbing. Signs and symptoms may include a lump in the back of the base of the neck and limited movement in the shoulder or ...\n"
     ]
    }
   ],
   "source": [
    "for i in range(3):\n",
    "    print(f\"\\n=== Example {i+1} ===\")\n",
    "    print(\"INPUT:\", inputs[i][:250])\n",
    "    print(\"\\nPREDICTION:\", preds[i][:400], \"...\")\n",
    "    print(\"\\nREFERENCE ANSWER:\", refs[i][:400], \"...\")\n"
   ]
  },
  {
   "cell_type": "code",
   "execution_count": null,
   "metadata": {
    "application/vnd.databricks.v1+cell": {
     "cellMetadata": {
      "byteLimit": 2048000,
      "rowLimit": 10000
     },
     "inputWidgets": {},
     "nuid": "27171f6a-02b7-47c0-b4cf-c8ed908b69ac",
     "showTitle": false,
     "tableResultSettingsMap": {},
     "title": ""
    }
   },
   "outputs": [
    {
     "data": {
      "text/html": [
       "<div>\n",
       "<style scoped>\n",
       "    .dataframe tbody tr th:only-of-type {\n",
       "        vertical-align: middle;\n",
       "    }\n",
       "\n",
       "    .dataframe tbody tr th {\n",
       "        vertical-align: top;\n",
       "    }\n",
       "\n",
       "    .dataframe thead th {\n",
       "        text-align: right;\n",
       "    }\n",
       "</style>\n",
       "<table border=\"1\" class=\"dataframe\">\n",
       "  <thead>\n",
       "    <tr style=\"text-align: right;\">\n",
       "      <th></th>\n",
       "      <th>input_text</th>\n",
       "      <th>reference_answer</th>\n",
       "      <th>predicted_answer</th>\n",
       "    </tr>\n",
       "  </thead>\n",
       "  <tbody>\n",
       "    <tr>\n",
       "      <th>0</th>\n",
       "      <td>question: spastic paraplegia type 8 inherited ...</td>\n",
       "      <td>Spastic paraplegia type 8 is inherited in an a...</td>\n",
       "      <td>This condition is inherited in an autosomal do...</td>\n",
       "    </tr>\n",
       "    <tr>\n",
       "      <th>1</th>\n",
       "      <td>question: nutrition early chronic kidney disea...</td>\n",
       "      <td>As blood pressure rises, the risk of damage to...</td>\n",
       "      <td>Key Points - Nutrition is an important part of...</td>\n",
       "    </tr>\n",
       "    <tr>\n",
       "      <th>2</th>\n",
       "      <td>question: sprengel deformity answer:</td>\n",
       "      <td>Sprengel deformity is a congenital condition c...</td>\n",
       "      <td>Sprengel deformity is a condition that affects...</td>\n",
       "    </tr>\n",
       "    <tr>\n",
       "      <th>3</th>\n",
       "      <td>question: outlook spinal cord injury answer:</td>\n",
       "      <td>Spinal cord injuries are classified as either ...</td>\n",
       "      <td>The prognosis for people with spinal cord inju...</td>\n",
       "    </tr>\n",
       "    <tr>\n",
       "      <th>4</th>\n",
       "      <td>question: mitochondrial neurogastrointestinal ...</td>\n",
       "      <td>Mitochondrial neurogastrointestinal encephalop...</td>\n",
       "      <td>Mitochondrial neurogastrointestinal encephalop...</td>\n",
       "    </tr>\n",
       "    <tr>\n",
       "      <th>5</th>\n",
       "      <td>question: congenital varicella syndrome answer:</td>\n",
       "      <td>Congenital varicella syndrome is an extremely ...</td>\n",
       "      <td>Congenital varicella syndrome (CVS) is a rare ...</td>\n",
       "    </tr>\n",
       "    <tr>\n",
       "      <th>6</th>\n",
       "      <td>question: tinnitus answer:</td>\n",
       "      <td>Tinnitus is often described as a ringing in th...</td>\n",
       "      <td>Tinnitus is a condition that affects the nervo...</td>\n",
       "    </tr>\n",
       "    <tr>\n",
       "      <th>7</th>\n",
       "      <td>question: need know diarrhea answer:</td>\n",
       "      <td>- Diarrhea is frequent, loose, and watery bowe...</td>\n",
       "      <td>Diarrhea is a disease in which the body's dige...</td>\n",
       "    </tr>\n",
       "    <tr>\n",
       "      <th>8</th>\n",
       "      <td>question: risk leukemia answer:</td>\n",
       "      <td>For the most part, no one knows why some peopl...</td>\n",
       "      <td>Key Points - There are different types of leuk...</td>\n",
       "    </tr>\n",
       "    <tr>\n",
       "      <th>9</th>\n",
       "      <td>question: treatment acquired pure red cell apl...</td>\n",
       "      <td>How might acquired pure red cell aplasia be tr...</td>\n",
       "      <td>These resources address the diagnosis or manag...</td>\n",
       "    </tr>\n",
       "  </tbody>\n",
       "</table>\n",
       "</div>"
      ],
      "text/plain": [
       "                                          input_text  ...                                   predicted_answer\n",
       "0  question: spastic paraplegia type 8 inherited ...  ...  This condition is inherited in an autosomal do...\n",
       "1  question: nutrition early chronic kidney disea...  ...  Key Points - Nutrition is an important part of...\n",
       "2               question: sprengel deformity answer:  ...  Sprengel deformity is a condition that affects...\n",
       "3       question: outlook spinal cord injury answer:  ...  The prognosis for people with spinal cord inju...\n",
       "4  question: mitochondrial neurogastrointestinal ...  ...  Mitochondrial neurogastrointestinal encephalop...\n",
       "5    question: congenital varicella syndrome answer:  ...  Congenital varicella syndrome (CVS) is a rare ...\n",
       "6                         question: tinnitus answer:  ...  Tinnitus is a condition that affects the nervo...\n",
       "7               question: need know diarrhea answer:  ...  Diarrhea is a disease in which the body's dige...\n",
       "8                    question: risk leukemia answer:  ...  Key Points - There are different types of leuk...\n",
       "9  question: treatment acquired pure red cell apl...  ...  These resources address the diagnosis or manag...\n",
       "\n",
       "[10 rows x 3 columns]"
      ]
     },
     "metadata": {},
     "output_type": "display_data"
    },
    {
     "name": "stdout",
     "output_type": "stream",
     "text": [
      "ROUGE: {'rouge1': 0.31576639961927666, 'rouge2': 0.17178996510205768, 'rougeL': 0.24845837693786155, 'rougeLsum': 0.25341844016035764}\n"
     ]
    }
   ],
   "source": [
    "display(eval_df.head(10))\n",
    "print(\"ROUGE:\", scores)"
   ]
  },
  {
   "cell_type": "markdown",
   "metadata": {},
   "source": [
    "---\n",
    "## Predict on New Questionse\r\n",
    "Test the fine-tuned model on a een question (\"symptoms of continuous headachioation.\r\n",
    "\r\n",
    "### Technical Details\r\n",
    "- Input: \"question: what are symptoms of continuous headache? answer:\".\r\n",
    "- Generation: Uses `model.generate` with max_length=256, num_beams=8, no_repeat_ngram_size=2.\r\n",
    "- Issue: Prediction shows hallucination (e.g., conjunctivitis references), reinforcing need for RAG grounding."
   ]
  },
  {
   "cell_type": "code",
   "execution_count": null,
   "metadata": {
    "application/vnd.databricks.v1+cell": {
     "cellMetadata": {
      "byteLimit": 2048000,
      "rowLimit": 10000
     },
     "inputWidgets": {},
     "nuid": "6959ba3b-78fa-40f3-8876-18224a29d3cc",
     "showTitle": false,
     "tableResultSettingsMap": {},
     "title": ""
    }
   },
   "outputs": [
    {
     "name": "stdout",
     "output_type": "stream",
     "text": [
      "New Question Input:\n",
      "question: what are symptoms of continous headache? answer:\n",
      "\n",
      "Predicted response:\n",
      "What are the signs and symptoms of continous headache? Constant headaches can be caused by a variety of factors, including the following: - The severity of the headache varies from person to person. Some people may have no symptoms at all, while others may not have any symptoms. For example, if you have an X-linked recessive disorder, your symptoms may be milder than usual. Symptoms may include headache pain or tingling in the hands and feet, nausea, vomiting, and irritability. The Human Phenotype Ontology provides detailed information on the diagnosis and management of conjunctivitis. If the information is available, the table below includes how often the symptom is seen in people with this condition. You can use the MedlinePlus Medical Dictionary to look up the definitions for these medical terms. Signs of constipation and diarrhea may also be present in some cases.\n"
     ]
    }
   ],
   "source": [
    "new_question = \"question: what are symptoms of continous headache? answer:\"\n",
    "inputs = tokenizer(new_question, return_tensors=\"pt\", max_length=128, truncation=True)\n",
    "outputs = model.generate(**inputs, max_length=256, num_beams=8, early_stopping=True, no_repeat_ngram_size=2)\n",
    "response = tokenizer.decode(outputs[0], skip_special_tokens=True)\n",
    "\n",
    "print(\"New Question Input:\")\n",
    "print(new_question)\n",
    "print(\"\\nPredicted response:\")\n",
    "print(response)"
   ]
  },
  {
   "cell_type": "markdown",
   "metadata": {},
   "source": [
    "---\n",
    "## Demo Model Predictions\n",
    "\n",
    "### Purpose\n",
    "Demonstrates the fine-tuned model's performance on dataset samples and new queries, verifying QA generation quality.\n",
    "\n",
    "- Validates the fine-tuned model’s ability to generate relevant medical answers, crucial for telehealth FAQ reliability.\n",
    "- Provides qualitative evaluation beyond metrics, showcasing real-world applicability.\n",
    "\n",
    "### Technical Details\n",
    "- `demo_prediction`: Generates answers for dataset row 0 and new query (e.g., \"symptoms of continuous headache\").\n",
    "- Uses `max_length=256`, `num_beams=8` for generation.\n",
    "- Compares prediction to reference for qualitative assessment."
   ]
  },
  {
   "cell_type": "code",
   "execution_count": 2,
   "metadata": {
    "application/vnd.databricks.v1+cell": {
     "cellMetadata": {
      "byteLimit": 2048000,
      "rowLimit": 10000
     },
     "inputWidgets": {},
     "nuid": "60ce99fb-ba3f-457a-9abf-191a98d2a886",
     "showTitle": false,
     "tableResultSettingsMap": {},
     "title": ""
    }
   },
   "outputs": [
    {
     "name": "stdout",
     "output_type": "stream",
     "text": [
      "### Dataset Question Demo\n",
      "INPUT: question: symptom peripheral arterial disease pad answer:\n",
      "\n",
      "PREDICTION: What are the signs and symptoms of continous headache? Constant headaches can be caused by a variety of factors, including the following: - The severity of the headache varies from person to person. Some people may have no symptoms at all, while others may not have any symptoms. For example, if you have an X-linked recessive disorder, your symptoms may be milder than usual. Symptoms may include headache pain or tingling in the hands and feet, nausea, vomiting, and irritability. The Human Phenotype Ontology provides detailed information on the diagnosis and management of conjunctivitis. If the information is available, the table below includes how often the symptom is seen in people with this condition. You can use the MedlinePlus Medical Dictionary to look up the definitions for these medical terms. Signs of constipation and diarrhea may also be present in some cases....\n",
      "\n",
      "REFERENCE: People who have P.A.D. may have symptoms when walking or climbing stairs. These may include pain, numbness, aching, or heaviness in the leg muscles. Symptoms may also include cramping in the affected leg(s) and in the buttocks, thighs, calves, and feet. So...\n"
     ]
    }
   ],
   "source": [
    "# Demo: Showcase model predictions\n",
    "def demo_prediction(question, is_dataset=True):\n",
    "    if is_dataset:\n",
    "        sample = dataset[0]  # Use first dataset row\n",
    "        input_text = f\"question: {' '.join(sample['lemma_question'])} answer:\"\n",
    "        ref = sample[\"original_answer\"]\n",
    "    else:\n",
    "        input_text = f\"question: {question} answer:\"\n",
    "        ref = \"No reference available\"\n",
    "    inputs = tokenizer(new_question, return_tensors=\"pt\", max_length=128, truncation=True)\n",
    "    outputs = model.generate(**inputs, max_length=256, num_beams=8, early_stopping=True, no_repeat_ngram_size=2)\n",
    "    pred = tokenizer.decode(outputs[0], skip_special_tokens=True)\n",
    "    print(f\"INPUT: {input_text}\\n\")\n",
    "    print(f\"PREDICTION: {pred}...\\n\")\n",
    "    print(f\"REFERENCE: {ref[:256]}...\\n\")\n",
    "\n",
    "print(\"### Dataset Question Demo\")\n",
    "demo_prediction(None, is_dataset=True)"
   ]
  },
  {
   "cell_type": "markdown",
   "metadata": {},
   "source": [
    "---\n",
    "## Conclusion\n",
    "\n",
    "This notebook fine-tuned `google/flan-t5-base` on 16,359 preprocessed Medical FAQ pairs, achieving an eval_loss of ~1.589 after 3 epochs, and evaluated 500 validation samples with ROUGE scores (ROUGE-1: 0.316, ROUGE-L: 0.248). The model was saved as `finetuned_llm_prototype`, and predictions were generated for dataset samples and a new question (\"symptoms of continuous headache\"). While some answers were accurate (e.g., spastic paraplegia inheritance), hallucinations were observed (e.g., headache symptoms for PAD, incorrect CKD nutrition), indicating the need for RAG grounding.\n",
    "\n",
    "### Key Results\n",
    "- **Dataset**: 16,359 QA pairs tokenized, split 90/10 (14,723 train, 1,636 validation).\n",
    "- **Training**: 3 epochs, batch_size=3, eval_loss from 1.681 to 1.589.\n",
    "- **Evaluation**: 500 samples, ROUGE-1: 0.316, ROUGE-2: 0.172, ROUGE-L: 0.248, ROUGE-Lsum: 0.253.\n",
    "- **Outputs**: Fine-tuned model, `eval_preds.csv`, `rouge.json`.\n",
    "- **Demo**: Predictions showed strengths (correct inheritance) and weaknesses (hallucinations).\n",
    "- **Runtime**: ~37 hours training, ~1 hour 33 minutes evaluation on Databricks Community Edition (CPU).\n",
    "\n",
    "### Business Impact\n",
    "- Produces a domain-specific LLM for telehealth FAQs, reducing clinician time on common queries.\n",
    "- Evaluation data supports iterative improvements, enhancing FAQ reliability for patient care.\n",
    "- Sets foundation for multilingual support and RAG, promoting equitable healthcare access.\n",
    "\n",
    "### Next Steps\n",
    "- **RAG Pipeline**: Build retrieval with LangChain and FAISS to ground predictions in dataset context (04_langchain_RAG.ipynb).\n",
    "- **Verdict Assignment**: Add TF-IDF similarity and keyword rules to `eval_preds.csv` for `Correct`/`Incorrect` verdicts.\n",
    "- **Multilingual Expansion**: Translate 331 `Correct` answers to Spanish/Telugu using GCP Translation API.\n",
    "- **Deployment**: Develop Streamlit app for interactive FAQ queries, deployable on AWS SageMaker.\n",
    "- **Portfolio Polish**: Update GitHub README with model performance, ROUGE scores, and screenshot of `eval_preds.csv`.\n",
    "\n",
    "This step showcases LLM fine-tuning with Hugging Face, cloud integration, and evaluation for healthcare applications."
   ]
  }
 ],
 "metadata": {
  "application/vnd.databricks.v1+notebook": {
   "computePreferences": {
    "hardware": {
     "accelerator": null,
     "gpuPoolId": null,
     "memory": null
    }
   },
   "dashboards": [],
   "environmentMetadata": {
    "base_environment": "",
    "environment_version": "3"
   },
   "inputWidgetPreferences": null,
   "language": "python",
   "notebookMetadata": {
    "pythonIndentUnit": 4
   },
   "notebookName": "03_train_LLM",
   "widgets": {}
  },
  "kernelspec": {
   "display_name": "Python (projectML)",
   "language": "python",
   "name": "projectml"
  },
  "language_info": {
   "codemirror_mode": {
    "name": "ipython",
    "version": 3
   },
   "file_extension": ".py",
   "mimetype": "text/x-python",
   "name": "python",
   "nbconvert_exporter": "python",
   "pygments_lexer": "ipython3",
   "version": "3.12.2"
  }
 },
 "nbformat": 4,
 "nbformat_minor": 4
}
